{
 "cells": [
  {
   "cell_type": "code",
   "execution_count": 1,
   "metadata": {},
   "outputs": [],
   "source": [
    "import torch\n",
    "import torch.nn as nn\n",
    "from torch.nn import functional as F\n",
    "import torchvision\n",
    "import cv2\n",
    "\n",
    "import matplotlib.pyplot as plt"
   ]
  },
  {
   "cell_type": "markdown",
   "metadata": {},
   "source": [
    "# Anchor Boxes"
   ]
  },
  {
   "cell_type": "code",
   "execution_count": 2,
   "metadata": {},
   "outputs": [],
   "source": [
    "def draw_grid(input, line_color=(0, 255, 0), thickness=1, type_= cv2.LINE_AA, pxstep=50):\n",
    "    img = input.copy()\n",
    "        \n",
    "    cv2.rectangle(img,(0,0),(img.shape[0]-1,img.shape[1]-1),line_color,thickness)\n",
    "    \n",
    "    x = 0\n",
    "    y = 0\n",
    "    while x < img.shape[1]:\n",
    "        cv2.line(img, (x, 0), (x, img.shape[0]), color=line_color, lineType=type_, thickness=thickness)\n",
    "        x += pxstep\n",
    "\n",
    "    while y < img.shape[0]:\n",
    "        cv2.line(img, (0, y), (img.shape[1], y), color=line_color, lineType=type_, thickness=thickness)\n",
    "        y += pxstep\n",
    "        \n",
    "    return img"
   ]
  },
  {
   "cell_type": "markdown",
   "metadata": {},
   "source": [
    "## Immagine di esempio"
   ]
  },
  {
   "cell_type": "code",
   "execution_count": 3,
   "metadata": {},
   "outputs": [
    {
     "data": {
      "image/png": "[encoded data removed]",
      "text/plain": [
       "<Figure size 720x720 with 1 Axes>"
      ]
     },
     "metadata": {
      "needs_background": "light"
     },
     "output_type": "display_data"
    }
   ],
   "source": [
    "import numpy as np\n",
    "import cv2\n",
    "\n",
    "\n",
    "img = np.ones((800, 800,3),dtype = 'uint8')*255\n",
    "\n",
    "# [y1, x1, y2, x2] format\n",
    "bbox = [250,550,550,750]\n",
    "\n",
    "x, y = 430,420\n",
    "r = 100\n",
    "\n",
    "\n",
    "cv2.circle(img, (x,y), r, (255, 255, 0),cv2.FILLED)\n",
    "\n",
    "\n",
    "plt.figure(figsize=(10,10))\n",
    "\n",
    "plt.imshow(img)\n",
    "plt.axis('off')\n",
    "plt.show()\n"
   ]
  },
  {
   "cell_type": "code",
   "execution_count": 4,
   "metadata": {},
   "outputs": [
    {
     "data": {
      "image/png": "[encoded data removed]",
      "text/plain": [
       "<Figure size 720x720 with 1 Axes>"
      ]
     },
     "metadata": {
      "needs_background": "light"
     },
     "output_type": "display_data"
    }
   ],
   "source": [
    "cv2.rectangle(img, (x-r,y-r), (x+r, y+r), (255, 0, 0),thickness=2)\n",
    "\n",
    "\n",
    "\n",
    "plt.figure(figsize=(10,10))\n",
    "\n",
    "plt.imshow(img)\n",
    "plt.axis('off')\n",
    "plt.show()\n",
    "\n"
   ]
  },
  {
   "cell_type": "markdown",
   "metadata": {},
   "source": [
    "La griglia rappresenta il livello di downsample ottenuto calcolando le feature maps"
   ]
  },
  {
   "cell_type": "code",
   "execution_count": 5,
   "metadata": {},
   "outputs": [],
   "source": [
    "model_ft = torchvision.models.vgg16(pretrained=True)"
   ]
  },
  {
   "cell_type": "code",
   "execution_count": 6,
   "metadata": {},
   "outputs": [
    {
     "data": {
      "text/plain": [
       "VGG(\n",
       "  (features): Sequential(\n",
       "    (0): Conv2d(3, 64, kernel_size=(3, 3), stride=(1, 1), padding=(1, 1))\n",
       "    (1): ReLU(inplace=True)\n",
       "    (2): Conv2d(64, 64, kernel_size=(3, 3), stride=(1, 1), padding=(1, 1))\n",
       "    (3): ReLU(inplace=True)\n",
       "    (4): MaxPool2d(kernel_size=2, stride=2, padding=0, dilation=1, ceil_mode=False)\n",
       "    (5): Conv2d(64, 128, kernel_size=(3, 3), stride=(1, 1), padding=(1, 1))\n",
       "    (6): ReLU(inplace=True)\n",
       "    (7): Conv2d(128, 128, kernel_size=(3, 3), stride=(1, 1), padding=(1, 1))\n",
       "    (8): ReLU(inplace=True)\n",
       "    (9): MaxPool2d(kernel_size=2, stride=2, padding=0, dilation=1, ceil_mode=False)\n",
       "    (10): Conv2d(128, 256, kernel_size=(3, 3), stride=(1, 1), padding=(1, 1))\n",
       "    (11): ReLU(inplace=True)\n",
       "    (12): Conv2d(256, 256, kernel_size=(3, 3), stride=(1, 1), padding=(1, 1))\n",
       "    (13): ReLU(inplace=True)\n",
       "    (14): Conv2d(256, 256, kernel_size=(3, 3), stride=(1, 1), padding=(1, 1))\n",
       "    (15): ReLU(inplace=True)\n",
       "    (16): MaxPool2d(kernel_size=2, stride=2, padding=0, dilation=1, ceil_mode=False)\n",
       "    (17): Conv2d(256, 512, kernel_size=(3, 3), stride=(1, 1), padding=(1, 1))\n",
       "    (18): ReLU(inplace=True)\n",
       "    (19): Conv2d(512, 512, kernel_size=(3, 3), stride=(1, 1), padding=(1, 1))\n",
       "    (20): ReLU(inplace=True)\n",
       "    (21): Conv2d(512, 512, kernel_size=(3, 3), stride=(1, 1), padding=(1, 1))\n",
       "    (22): ReLU(inplace=True)\n",
       "    (23): MaxPool2d(kernel_size=2, stride=2, padding=0, dilation=1, ceil_mode=False)\n",
       "    (24): Conv2d(512, 512, kernel_size=(3, 3), stride=(1, 1), padding=(1, 1))\n",
       "    (25): ReLU(inplace=True)\n",
       "    (26): Conv2d(512, 512, kernel_size=(3, 3), stride=(1, 1), padding=(1, 1))\n",
       "    (27): ReLU(inplace=True)\n",
       "    (28): Conv2d(512, 512, kernel_size=(3, 3), stride=(1, 1), padding=(1, 1))\n",
       "    (29): ReLU(inplace=True)\n",
       "    (30): MaxPool2d(kernel_size=2, stride=2, padding=0, dilation=1, ceil_mode=False)\n",
       "  )\n",
       "  (avgpool): AdaptiveAvgPool2d(output_size=(7, 7))\n",
       "  (classifier): Sequential(\n",
       "    (0): Linear(in_features=25088, out_features=4096, bias=True)\n",
       "    (1): ReLU(inplace=True)\n",
       "    (2): Dropout(p=0.5, inplace=False)\n",
       "    (3): Linear(in_features=4096, out_features=4096, bias=True)\n",
       "    (4): ReLU(inplace=True)\n",
       "    (5): Dropout(p=0.5, inplace=False)\n",
       "    (6): Linear(in_features=4096, out_features=1000, bias=True)\n",
       "  )\n",
       ")"
      ]
     },
     "execution_count": 6,
     "metadata": {},
     "output_type": "execute_result"
    }
   ],
   "source": [
    "model_ft"
   ]
  },
  {
   "cell_type": "code",
   "execution_count": 7,
   "metadata": {},
   "outputs": [],
   "source": [
    "model_ft = model_ft.features[:-1]"
   ]
  },
  {
   "cell_type": "code",
   "execution_count": 8,
   "metadata": {},
   "outputs": [
    {
     "data": {
      "text/plain": [
       "Sequential(\n",
       "  (0): Conv2d(3, 64, kernel_size=(3, 3), stride=(1, 1), padding=(1, 1))\n",
       "  (1): ReLU(inplace=True)\n",
       "  (2): Conv2d(64, 64, kernel_size=(3, 3), stride=(1, 1), padding=(1, 1))\n",
       "  (3): ReLU(inplace=True)\n",
       "  (4): MaxPool2d(kernel_size=2, stride=2, padding=0, dilation=1, ceil_mode=False)\n",
       "  (5): Conv2d(64, 128, kernel_size=(3, 3), stride=(1, 1), padding=(1, 1))\n",
       "  (6): ReLU(inplace=True)\n",
       "  (7): Conv2d(128, 128, kernel_size=(3, 3), stride=(1, 1), padding=(1, 1))\n",
       "  (8): ReLU(inplace=True)\n",
       "  (9): MaxPool2d(kernel_size=2, stride=2, padding=0, dilation=1, ceil_mode=False)\n",
       "  (10): Conv2d(128, 256, kernel_size=(3, 3), stride=(1, 1), padding=(1, 1))\n",
       "  (11): ReLU(inplace=True)\n",
       "  (12): Conv2d(256, 256, kernel_size=(3, 3), stride=(1, 1), padding=(1, 1))\n",
       "  (13): ReLU(inplace=True)\n",
       "  (14): Conv2d(256, 256, kernel_size=(3, 3), stride=(1, 1), padding=(1, 1))\n",
       "  (15): ReLU(inplace=True)\n",
       "  (16): MaxPool2d(kernel_size=2, stride=2, padding=0, dilation=1, ceil_mode=False)\n",
       "  (17): Conv2d(256, 512, kernel_size=(3, 3), stride=(1, 1), padding=(1, 1))\n",
       "  (18): ReLU(inplace=True)\n",
       "  (19): Conv2d(512, 512, kernel_size=(3, 3), stride=(1, 1), padding=(1, 1))\n",
       "  (20): ReLU(inplace=True)\n",
       "  (21): Conv2d(512, 512, kernel_size=(3, 3), stride=(1, 1), padding=(1, 1))\n",
       "  (22): ReLU(inplace=True)\n",
       "  (23): MaxPool2d(kernel_size=2, stride=2, padding=0, dilation=1, ceil_mode=False)\n",
       "  (24): Conv2d(512, 512, kernel_size=(3, 3), stride=(1, 1), padding=(1, 1))\n",
       "  (25): ReLU(inplace=True)\n",
       "  (26): Conv2d(512, 512, kernel_size=(3, 3), stride=(1, 1), padding=(1, 1))\n",
       "  (27): ReLU(inplace=True)\n",
       "  (28): Conv2d(512, 512, kernel_size=(3, 3), stride=(1, 1), padding=(1, 1))\n",
       "  (29): ReLU(inplace=True)\n",
       ")"
      ]
     },
     "execution_count": 8,
     "metadata": {},
     "output_type": "execute_result"
    }
   ],
   "source": [
    "model_ft"
   ]
  },
  {
   "cell_type": "code",
   "execution_count": 9,
   "metadata": {},
   "outputs": [],
   "source": [
    "input = torch.randn((1,3,800,800))\n",
    "\n",
    "output = model_ft(input)\n"
   ]
  },
  {
   "cell_type": "code",
   "execution_count": 10,
   "metadata": {},
   "outputs": [
    {
     "data": {
      "text/plain": [
       "torch.Size([1, 512, 50, 50])"
      ]
     },
     "execution_count": 10,
     "metadata": {},
     "output_type": "execute_result"
    }
   ],
   "source": [
    "output.shape"
   ]
  },
  {
   "cell_type": "code",
   "execution_count": 11,
   "metadata": {},
   "outputs": [
    {
     "data": {
      "text/plain": [
       "tensor(0., grad_fn=<SelectBackward>)"
      ]
     },
     "execution_count": 11,
     "metadata": {},
     "output_type": "execute_result"
    }
   ],
   "source": [
    "output[0,0,0,0]"
   ]
  },
  {
   "cell_type": "code",
   "execution_count": 12,
   "metadata": {},
   "outputs": [
    {
     "data": {
      "image/png": "[encoded data removed]",
      "text/plain": [
       "<Figure size 1080x1080 with 1 Axes>"
      ]
     },
     "metadata": {
      "needs_background": "light"
     },
     "output_type": "display_data"
    }
   ],
   "source": [
    "plt.figure(figsize=(15,15))\n",
    "\n",
    "\n",
    "cell_size = 160\n",
    "\n",
    "img_grid = draw_grid(img,pxstep=cell_size)\n",
    "\n",
    "plt.imshow(img_grid)\n",
    "plt.axis('off')\n",
    "plt.show()"
   ]
  },
  {
   "cell_type": "markdown",
   "metadata": {},
   "source": [
    "## Visualizzare gli anchor boxes"
   ]
  },
  {
   "cell_type": "markdown",
   "metadata": {},
   "source": [
    "Generiamo la griglia degli anchor points"
   ]
  },
  {
   "cell_type": "code",
   "execution_count": 13,
   "metadata": {},
   "outputs": [],
   "source": [
    "def generate_anchors(img, sub_sample, ratios=[0.5, 1, 2], anchor_scales=[0.5, 1, 2]):\n",
    "    fe_size = [img.shape[0] // sub_sample, img.shape[1] // sub_sample]\n",
    "\n",
    "    ctr_x = np.arange(sub_sample, (fe_size[0] + 1) * sub_sample, sub_sample).astype('int')\n",
    "    ctr_y = np.arange(sub_sample, (fe_size[1] + 1) * sub_sample, sub_sample).astype('int')\n",
    "\n",
    "    ctr = np.zeros((len(ctr_x) * len(ctr_y), 2)).astype('int')\n",
    "        \n",
    "    index = 0\n",
    "    for x in range(len(ctr_x)):\n",
    "        for y in range(len(ctr_y)):\n",
    "            ctr[index, 1] = ctr_x[x] - (sub_sample//2)\n",
    "            ctr[index, 0] = ctr_y[y] - (sub_sample//2)\n",
    "\n",
    "            index += 1\n",
    "\n",
    "    n_of_anchors = len(ratios) * len(anchor_scales)\n",
    "    anchors = np.zeros(((fe_size[0] * fe_size[1] * n_of_anchors), 4)).astype('int')\n",
    "\n",
    "    index = 0\n",
    "\n",
    "    for c_id, c in enumerate(ctr):\n",
    "        ctr_y, ctr_x = c\n",
    "        for i in range(len(ratios)):\n",
    "            for j in range(len(anchor_scales)):\n",
    "                h = sub_sample * anchor_scales[j] * np.sqrt(ratios[i])\n",
    "                w = sub_sample * anchor_scales[j] * np.sqrt(1. / ratios[i])\n",
    "                anchors[index, 0] = ctr_y - h / 2.\n",
    "                anchors[index, 1] = ctr_x - w / 2.\n",
    "                anchors[index, 2] = ctr_y + h / 2.\n",
    "                anchors[index, 3] = ctr_x + w / 2.\n",
    "                index += 1\n",
    "\n",
    "    index_inside = np.where(\n",
    "        (anchors[:, 0] >= 0) &\n",
    "        (anchors[:, 1] >= 0) &\n",
    "        (anchors[:, 2] <= 800) &\n",
    "        (anchors[:, 3] <= 800)\n",
    "    )[0]\n",
    "\n",
    "    return ctr,anchors[index_inside]"
   ]
  },
  {
   "cell_type": "code",
   "execution_count": 14,
   "metadata": {},
   "outputs": [],
   "source": [
    "ctr,anchors = generate_anchors(img_grid,cell_size,anchor_scales=[1,2,4])"
   ]
  },
  {
   "cell_type": "code",
   "execution_count": 15,
   "metadata": {},
   "outputs": [
    {
     "data": {
      "text/plain": [
       "array([[  0,   0, 160, 160],\n",
       "       [160,   0, 320, 160],\n",
       "       [126,  23, 353, 136],\n",
       "       [320,   0, 480, 160],\n",
       "       [286,  23, 513, 136],\n",
       "       [480,   0, 640, 160],\n",
       "       [446,  23, 673, 136],\n",
       "       [640,   0, 800, 160],\n",
       "       [ 23, 126, 136, 353],\n",
       "       [  0, 160, 160, 320],\n",
       "       [183, 126, 296, 353],\n",
       "       [126,  13, 353, 466],\n",
       "       [160, 160, 320, 320],\n",
       "       [ 80,  80, 400, 400],\n",
       "       [126, 183, 353, 296],\n",
       "       [ 13, 126, 466, 353],\n",
       "       [343, 126, 456, 353],\n",
       "       [286,  13, 513, 466],\n",
       "       [320, 160, 480, 320],\n",
       "       [240,  80, 560, 400],\n",
       "       [286, 183, 513, 296],\n",
       "       [173, 126, 626, 353],\n",
       "       [503, 126, 616, 353],\n",
       "       [446,  13, 673, 466],\n",
       "       [480, 160, 640, 320],\n",
       "       [400,  80, 720, 400],\n",
       "       [446, 183, 673, 296],\n",
       "       [333, 126, 786, 353],\n",
       "       [663, 126, 776, 353],\n",
       "       [640, 160, 800, 320],\n",
       "       [ 23, 286, 136, 513],\n",
       "       [  0, 320, 160, 480],\n",
       "       [183, 286, 296, 513],\n",
       "       [126, 173, 353, 626],\n",
       "       [160, 320, 320, 480],\n",
       "       [ 80, 240, 400, 560],\n",
       "       [126, 343, 353, 456],\n",
       "       [ 13, 286, 466, 513],\n",
       "       [343, 286, 456, 513],\n",
       "       [286, 173, 513, 626],\n",
       "       [320, 320, 480, 480],\n",
       "       [240, 240, 560, 560],\n",
       "       [ 80,  80, 720, 720],\n",
       "       [286, 343, 513, 456],\n",
       "       [173, 286, 626, 513],\n",
       "       [503, 286, 616, 513],\n",
       "       [446, 173, 673, 626],\n",
       "       [480, 320, 640, 480],\n",
       "       [400, 240, 720, 560],\n",
       "       [446, 343, 673, 456],\n",
       "       [333, 286, 786, 513],\n",
       "       [663, 286, 776, 513],\n",
       "       [640, 320, 800, 480],\n",
       "       [ 23, 446, 136, 673],\n",
       "       [  0, 480, 160, 640],\n",
       "       [183, 446, 296, 673],\n",
       "       [126, 333, 353, 786],\n",
       "       [160, 480, 320, 640],\n",
       "       [ 80, 400, 400, 720],\n",
       "       [126, 503, 353, 616],\n",
       "       [ 13, 446, 466, 673],\n",
       "       [343, 446, 456, 673],\n",
       "       [286, 333, 513, 786],\n",
       "       [320, 480, 480, 640],\n",
       "       [240, 400, 560, 720],\n",
       "       [286, 503, 513, 616],\n",
       "       [173, 446, 626, 673],\n",
       "       [503, 446, 616, 673],\n",
       "       [446, 333, 673, 786],\n",
       "       [480, 480, 640, 640],\n",
       "       [400, 400, 720, 720],\n",
       "       [446, 503, 673, 616],\n",
       "       [333, 446, 786, 673],\n",
       "       [663, 446, 776, 673],\n",
       "       [640, 480, 800, 640],\n",
       "       [  0, 640, 160, 800],\n",
       "       [160, 640, 320, 800],\n",
       "       [126, 663, 353, 776],\n",
       "       [320, 640, 480, 800],\n",
       "       [286, 663, 513, 776],\n",
       "       [480, 640, 640, 800],\n",
       "       [446, 663, 673, 776],\n",
       "       [640, 640, 800, 800]])"
      ]
     },
     "execution_count": 15,
     "metadata": {},
     "output_type": "execute_result"
    }
   ],
   "source": [
    "anchors"
   ]
  },
  {
   "cell_type": "code",
   "execution_count": 16,
   "metadata": {},
   "outputs": [],
   "source": [
    "def draw_anchors(image,ctr,anchors, point_col = (0, 0, 0), anch_col = (150, 150, 150),thickness=1, type_= cv2.LINE_AA):\n",
    "    im = image.copy()\n",
    "    \n",
    "    if ctr is not None:\n",
    "        for c in ctr:\n",
    "            cv2.circle(im, (c[0],c[1]), 0, point_col, thickness=5)\n",
    "        \n",
    "        \n",
    "    for a in anchors:\n",
    "        cv2.rectangle(im,(a[0], a[1]), (a[2], a[3]),anch_col,thickness)\n",
    "    \n",
    "    return im"
   ]
  },
  {
   "cell_type": "code",
   "execution_count": 17,
   "metadata": {},
   "outputs": [
    {
     "data": {
      "image/png": "[encoded data removed]",
      "text/plain": [
       "<Figure size 1080x1080 with 1 Axes>"
      ]
     },
     "metadata": {
      "needs_background": "light"
     },
     "output_type": "display_data"
    }
   ],
   "source": [
    "plt.figure(figsize=(15,15))\n",
    "\n",
    "\n",
    "cell_size = 80\n",
    "\n",
    "img_anch = draw_anchors(img_grid,ctr,anchors[22:30])#[312:321])\n",
    "#img_anch = draw_anchors(img_grid,ctr,anchors)\n",
    "\n",
    "\n",
    "plt.imshow(img_anch)\n",
    "plt.axis('off')\n",
    "plt.show()"
   ]
  },
  {
   "cell_type": "markdown",
   "metadata": {},
   "source": [
    "## Region Proposal Network"
   ]
  },
  {
   "cell_type": "code",
   "execution_count": 18,
   "metadata": {},
   "outputs": [],
   "source": [
    "class RegioProposalNetwork(nn.Module):\n",
    "    def __init__(self,in_channels = 512, mid_channels = 512, n_anchor = 9):\n",
    "        super(RegioProposalNetwork, self).__init__()\n",
    "        conv1 = nn.Conv2d(in_channels, mid_channels, 3, 1, 1)\n",
    "        nn.init.normal(conv1.weight, mean=0, std=0.001)\n",
    "        nn.init.zeros(conv1.bias)\n",
    "            \n",
    "        reg_layer = nn.Conv2d(mid_channels, n_anchor *4, 1, 1, 0)\n",
    "        nn.init.normal(reg_layer.weight, mean=0, std=0.001)\n",
    "        nn.init.zeros(reg_layer.bias)\n",
    "\n",
    "        cls_layer = nn.Conv2d(mid_channels, n_anchor *2, 1, 1, 0) \n",
    "        nn.init.normal(cls_layer.weight, mean=0, std=0.001)\n",
    "        nn.init.zeros(cls_layer.bias)\n",
    "\n",
    "    \n",
    "    def forward(self, x):\n",
    "        x = conv1(x)\n",
    "        pred_anchor_locs = reg_layer(x)\n",
    "        pred_cls_scores = cls_layer(x)\n",
    "        \n",
    "        pred_anchor_locs = pred_anchor_locs.permute(0, 2, 3, 1).contiguous().view(1, -1, 4)\n",
    "        pred_cls_scores = pred_cls_scores.permute(0, 2, 3, 1).contiguous()\n",
    "\n",
    "        pred_cls_scores  = pred_cls_scores.view(pred_cls_scores.shape[0], -1, 2)\n",
    "        \n",
    "        return pred_anchor_locs, pred_cls_scores\n",
    "        \n",
    "        "
   ]
  },
  {
   "cell_type": "markdown",
   "metadata": {},
   "source": [
    "## RetinaNet"
   ]
  },
  {
   "cell_type": "markdown",
   "metadata": {},
   "source": [
    "Riferimento su [github](https://github.com/kuangliu/pytorch-retinanet)"
   ]
  },
  {
   "cell_type": "code",
   "execution_count": 19,
   "metadata": {},
   "outputs": [],
   "source": [
    "pt = np.linspace(0,1,2000)\n",
    "pt = pt[1:]\n",
    "\n",
    "FL= lambda gamma: -1*(1-pt)**gamma*np.log(pt)\n",
    "\n"
   ]
  },
  {
   "cell_type": "code",
   "execution_count": 20,
   "metadata": {},
   "outputs": [
    {
     "data": {
      "image/png": "[encoded data removed]",
      "text/plain": [
       "<Figure size 720x432 with 1 Axes>"
      ]
     },
     "metadata": {
      "needs_background": "light"
     },
     "output_type": "display_data"
    }
   ],
   "source": [
    "\n",
    "plt.figure(figsize=(10,6))\n",
    "\n",
    "\n",
    "\n",
    "\n",
    "plt.plot(pt,FL(0),label=r'$CE(p_t)$')\n",
    "plt.plot(pt,FL(0.5),label=r'$FL(p_t,0.5)$')\n",
    "plt.plot(pt,FL(1),label=r'$FL(p_t,1)$')\n",
    "plt.plot(pt,FL(2),label=r'$FL(p_t,2)$')\n",
    "plt.plot(pt,FL(5),label=r'$FL(p_t,5)$')\n",
    "plt.legend()\n",
    "\n",
    "plt.show()\n"
   ]
  },
  {
   "cell_type": "code",
   "execution_count": null,
   "metadata": {},
   "outputs": [],
   "source": []
  }
 ],
 "metadata": {
  "kernelspec": {
   "display_name": "Python (ptc)",
   "language": "python",
   "name": "ptc"
  },
  "language_info": {
   "codemirror_mode": {
    "name": "ipython",
    "version": 3
   },
   "file_extension": ".py",
   "mimetype": "text/x-python",
   "name": "python",
   "nbconvert_exporter": "python",
   "pygments_lexer": "ipython3",
   "version": "3.7.6"
  }
 },
 "nbformat": 4,
 "nbformat_minor": 4
}
